{
 "cells": [
  {
   "cell_type": "code",
   "execution_count": 3,
   "metadata": {},
   "outputs": [
    {
     "name": "stdout",
     "output_type": "stream",
     "text": [
      "Mariana Miguel\n"
     ]
    }
   ],
   "source": [
    "full_name = 'Mariana Miguel'\n",
    "print(full_name)"
   ]
  },
  {
   "cell_type": "code",
   "execution_count": 4,
   "metadata": {
    "collapsed": true
   },
   "outputs": [],
   "source": [
    "word = 'stressed'"
   ]
  },
  {
   "cell_type": "code",
   "execution_count": 5,
   "metadata": {},
   "outputs": [
    {
     "name": "stdout",
     "output_type": "stream",
     "text": [
      "desserts\n"
     ]
    }
   ],
   "source": [
    "print(word[::-1])"
   ]
  },
  {
   "cell_type": "code",
   "execution_count": 14,
   "metadata": {},
   "outputs": [
    {
     "name": "stdout",
     "output_type": "stream",
     "text": [
      "s\n",
      "t\n",
      "r\n",
      "e\n",
      "s\n",
      "s\n",
      "e\n",
      "d\n"
     ]
    }
   ],
   "source": [
    "for char in word:\n",
    "    print(char[0:len(word)])"
   ]
  },
  {
   "cell_type": "code",
   "execution_count": 17,
   "metadata": {},
   "outputs": [
    {
     "name": "stdout",
     "output_type": "stream",
     "text": [
      "1\n",
      "8\n",
      "27\n",
      "64\n",
      "125\n"
     ]
    }
   ],
   "source": [
    "for i in range(1, 6):\n",
    "    print(i**3)"
   ]
  },
  {
   "cell_type": "code",
   "execution_count": 16,
   "metadata": {},
   "outputs": [
    {
     "name": "stdout",
     "output_type": "stream",
     "text": [
      "5\n",
      "25\n",
      "125\n"
     ]
    }
   ],
   "source": [
    "value = 1\n",
    "for i in range(1,4):\n",
    "    value = value*5\n",
    "    print(value)"
   ]
  },
  {
   "cell_type": "code",
   "execution_count": 19,
   "metadata": {},
   "outputs": [
    {
     "name": "stdout",
     "output_type": "stream",
     "text": [
      "25\n",
      "125\n"
     ]
    }
   ],
   "source": [
    "value = 5\n",
    "for i in range(0,2):\n",
    "    value = value*5\n",
    "    print(value)"
   ]
  },
  {
   "cell_type": "code",
   "execution_count": 36,
   "metadata": {},
   "outputs": [
    {
     "name": "stdout",
     "output_type": "stream",
     "text": [
      "55\n"
     ]
    }
   ],
   "source": [
    "total = 0 \n",
    "for number in range(11):\n",
    "    total = number + total\n",
    "print(total)"
   ]
  },
  {
   "cell_type": "code",
   "execution_count": 33,
   "metadata": {},
   "outputs": [
    {
     "name": "stdout",
     "output_type": "stream",
     "text": [
      "before total is: 0\n",
      "0 0\n",
      "before total is: 0\n",
      "1 1\n",
      "before total is: 1\n",
      "2 3\n",
      "before total is: 3\n",
      "3 6\n",
      "before total is: 6\n",
      "4 10\n",
      "before total is: 10\n",
      "5 15\n",
      "before total is: 15\n",
      "6 21\n",
      "before total is: 21\n",
      "7 28\n",
      "before total is: 28\n",
      "8 36\n",
      "before total is: 36\n",
      "9 45\n",
      "before total is: 45\n",
      "10 55\n"
     ]
    }
   ],
   "source": [
    "total = 0\n",
    "for number in range(11):\n",
    "    print('before total is:', total)\n",
    "    total = total + number\n",
    "    print(number, total)"
   ]
  },
  {
   "cell_type": "code",
   "execution_count": 35,
   "metadata": {},
   "outputs": [
    {
     "name": "stdout",
     "output_type": "stream",
     "text": [
      "12\n"
     ]
    }
   ],
   "source": [
    "total = 0\n",
    "for word in [\"red\", \"green\", \"blue\"]:\n",
    "    total = total + len(word)\n",
    "print(total)"
   ]
  },
  {
   "cell_type": "code",
   "execution_count": 37,
   "metadata": {},
   "outputs": [
    {
     "name": "stdout",
     "output_type": "stream",
     "text": [
      "primes are: [1, 3, 5, 7]\n"
     ]
    }
   ],
   "source": [
    "my_list = [1,3,5,7]\n",
    "print('primes are:', my_list)"
   ]
  },
  {
   "cell_type": "code",
   "execution_count": 38,
   "metadata": {},
   "outputs": [
    {
     "name": "stdout",
     "output_type": "stream",
     "text": [
      "<class 'list'>\n"
     ]
    }
   ],
   "source": [
    "print(type(my_list))"
   ]
  },
  {
   "cell_type": "code",
   "execution_count": 39,
   "metadata": {},
   "outputs": [
    {
     "name": "stdout",
     "output_type": "stream",
     "text": [
      "first: 1 last: 7\n"
     ]
    }
   ],
   "source": [
    "print('first:', my_list[0], 'last:', my_list[-1])"
   ]
  },
  {
   "cell_type": "code",
   "execution_count": 40,
   "metadata": {},
   "outputs": [
    {
     "name": "stdout",
     "output_type": "stream",
     "text": [
      "1\n",
      "3\n",
      "5\n",
      "7\n"
     ]
    }
   ],
   "source": [
    "for i in my_list:\n",
    "    print(i)"
   ]
  },
  {
   "cell_type": "code",
   "execution_count": 42,
   "metadata": {},
   "outputs": [
    {
     "name": "stdout",
     "output_type": "stream",
     "text": [
      "['Munk', 'Keling', 'Sverdrup']\n"
     ]
    }
   ],
   "source": [
    "oceanographers = ['Munk', 'Keling', 'Sverdrup']\n",
    "print(oceanographers)"
   ]
  },
  {
   "cell_type": "code",
   "execution_count": 43,
   "metadata": {},
   "outputs": [
    {
     "name": "stdout",
     "output_type": "stream",
     "text": [
      "Keling\n"
     ]
    }
   ],
   "source": [
    "print(oceanographers[1])"
   ]
  },
  {
   "cell_type": "code",
   "execution_count": 44,
   "metadata": {},
   "outputs": [
    {
     "name": "stdout",
     "output_type": "stream",
     "text": [
      "oceanographers were: ['Munk', 'Keling', 'Sverdrup']\n",
      "oceanographers now are: ['Munk', 'Keeling', 'Sverdrup']\n"
     ]
    }
   ],
   "source": [
    "#you can change specific elements of a list\n",
    "print('oceanographers were:', oceanographers)\n",
    "oceanographers[1] = 'Keeling'\n",
    "print('oceanographers now are:', oceanographers)"
   ]
  },
  {
   "cell_type": "code",
   "execution_count": 45,
   "metadata": {
    "collapsed": true
   },
   "outputs": [],
   "source": [
    "name = 'Ralph Kellini'"
   ]
  },
  {
   "cell_type": "code",
   "execution_count": 46,
   "metadata": {},
   "outputs": [
    {
     "name": "stdout",
     "output_type": "stream",
     "text": [
      "i\n"
     ]
    }
   ],
   "source": [
    "print(name[-1])"
   ]
  },
  {
   "cell_type": "code",
   "execution_count": 48,
   "metadata": {},
   "outputs": [
    {
     "ename": "SyntaxError",
     "evalue": "can't assign to function call (<ipython-input-48-479a9791e4d0>, line 1)",
     "output_type": "error",
     "traceback": [
      "\u001b[1;36m  File \u001b[1;32m\"<ipython-input-48-479a9791e4d0>\"\u001b[1;36m, line \u001b[1;32m1\u001b[0m\n\u001b[1;33m    name(-1) = 'g'\u001b[0m\n\u001b[1;37m                  ^\u001b[0m\n\u001b[1;31mSyntaxError\u001b[0m\u001b[1;31m:\u001b[0m can't assign to function call\n"
     ]
    }
   ],
   "source": [
    "#cannot change single characters within a string, must change whole string\n",
    "name[-1] = 'g'\n",
    "print(name)"
   ]
  },
  {
   "cell_type": "code",
   "execution_count": 49,
   "metadata": {},
   "outputs": [
    {
     "name": "stdout",
     "output_type": "stream",
     "text": [
      "name was: Ralph Kellini\n",
      "name now is: Ralph Keeling\n"
     ]
    }
   ],
   "source": [
    "print('name was:', name)\n",
    "name = 'Ralph Keeling'\n",
    "print('name now is:', name)"
   ]
  },
  {
   "cell_type": "code",
   "execution_count": 51,
   "metadata": {},
   "outputs": [
    {
     "name": "stdout",
     "output_type": "stream",
     "text": [
      "['SIO221A', 9.9, 'SIO217B', 7.5, 'SIO211', 8]\n"
     ]
    }
   ],
   "source": [
    "grades = ['SIO221A', 9.9, 'SIO217B', 7.5, 'SIO211', 8]\n",
    "print(grades)"
   ]
  },
  {
   "cell_type": "code",
   "execution_count": 52,
   "metadata": {},
   "outputs": [
    {
     "name": "stdout",
     "output_type": "stream",
     "text": [
      "['peppers', 'onions', 'jalapenos', 'tomato']\n"
     ]
    }
   ],
   "source": [
    "salsa = ['peppers', 'onions', 'jalapenos', 'tomato']\n",
    "print(salsa)"
   ]
  },
  {
   "cell_type": "code",
   "execution_count": 53,
   "metadata": {},
   "outputs": [
    {
     "name": "stdout",
     "output_type": "stream",
     "text": [
      "['peppers', 'onions', 'jalapenos', 'tomato']\n"
     ]
    }
   ],
   "source": [
    "lukes_salsa = salsa\n",
    "#making something equivalent to a list does NOT make a copy of it but rather 'points at it'\n",
    "print(lukes_salsa)"
   ]
  },
  {
   "cell_type": "code",
   "execution_count": 56,
   "metadata": {},
   "outputs": [
    {
     "name": "stdout",
     "output_type": "stream",
     "text": [
      "['peppers', 'onions', 'cilantro', 'tomato']\n",
      "['peppers', 'onions', 'cilantro', 'tomato']\n",
      "['peppers', 'onions', 'cilantro', 'tomato']\n",
      "['peppers', 'onions', 'cilantro', 'tomato']\n"
     ]
    }
   ],
   "source": [
    "print(salsa)\n",
    "print(lukes_salsa)\n",
    "lukes_salsa[2] = 'cilantro'\n",
    "print(lukes_salsa)\n",
    "print(salsa)"
   ]
  },
  {
   "cell_type": "code",
   "execution_count": 57,
   "metadata": {},
   "outputs": [
    {
     "name": "stdout",
     "output_type": "stream",
     "text": [
      "['peppers', 'onions', 'jalapenos', 'tomato']\n",
      "['peppers', 'onions', 'cilantro', 'tomato']\n"
     ]
    }
   ],
   "source": [
    "my_salsa = ['peppers', 'onions', 'jalapenos', 'tomato']\n",
    "lukes_salsa = list(my_salsa)\n",
    "    #how to make a copy of a list\n",
    "lukes_salsa[2] = 'cilantro'\n",
    "print(my_salsa)\n",
    "print(lukes_salsa)"
   ]
  },
  {
   "cell_type": "code",
   "execution_count": 58,
   "metadata": {},
   "outputs": [
    {
     "name": "stdout",
     "output_type": "stream",
     "text": [
      "[['density', 'CTD'], ['velocity', 'ADCF'], ['chlorophyll', 'fluorometer']]\n"
     ]
    }
   ],
   "source": [
    "#lists can also contain other lists\n",
    "cruise = [['density', 'CTD'], ['velocity', 'ADCF'], ['chlorophyll', 'fluorometer']]\n",
    "print(cruise)"
   ]
  },
  {
   "cell_type": "code",
   "execution_count": 59,
   "metadata": {},
   "outputs": [
    {
     "name": "stdout",
     "output_type": "stream",
     "text": [
      "['density', 'CTD']\n"
     ]
    }
   ],
   "source": [
    "print(cruise[0])"
   ]
  },
  {
   "cell_type": "code",
   "execution_count": 62,
   "metadata": {},
   "outputs": [
    {
     "name": "stdout",
     "output_type": "stream",
     "text": [
      "density\n"
     ]
    }
   ],
   "source": [
    "print(cruise[0][0])\n",
    " #not a bracket inside another-beside another"
   ]
  },
  {
   "cell_type": "code",
   "execution_count": 66,
   "metadata": {},
   "outputs": [
    {
     "name": "stdout",
     "output_type": "stream",
     "text": [
      "fluorometer\n"
     ]
    }
   ],
   "source": [
    "print(cruise[-1][-1])\n",
    " #a couple of options: [2][1], [2][-1], [-1][-1]"
   ]
  },
  {
   "cell_type": "code",
   "execution_count": 67,
   "metadata": {},
   "outputs": [
    {
     "name": "stdout",
     "output_type": "stream",
     "text": [
      "[['density', 'CTD'], ['velocity', 'ADCF'], ['chlorophyll', 'fluorometer'], ['salinity', 'CTD']]\n"
     ]
    }
   ],
   "source": [
    "cruise.append(['salinity', 'CTD'])\n",
    "print(cruise)"
   ]
  },
  {
   "cell_type": "code",
   "execution_count": 68,
   "metadata": {},
   "outputs": [
    {
     "name": "stdout",
     "output_type": "stream",
     "text": [
      "[['density', 'CTD'], ['velocity', 'ADCF'], ['chlorophyll', 'fluorometer'], ['salinity', 'CTD'], ['density', 'CTD'], ['velocity', 'ADCF'], ['chlorophyll', 'fluorometer'], ['salinity', 'CTD']]\n"
     ]
    }
   ],
   "source": [
    "print(2*(cruise))"
   ]
  },
  {
   "cell_type": "code",
   "execution_count": 70,
   "metadata": {},
   "outputs": [
    {
     "name": "stdout",
     "output_type": "stream",
     "text": [
      "[['density', 'CTD'], ['velocity', 'ADCF'], ['chlorophyll', 'fluorometer'], ['salinity', 'CTD'], ['density', 'CTD'], ['velocity', 'ADCF'], ['chlorophyll', 'fluorometer'], ['salinity', 'CTD']]\n"
     ]
    }
   ],
   "source": [
    "print(cruise+cruise)\n",
    " #the + is similar to the command .append"
   ]
  },
  {
   "cell_type": "code",
   "execution_count": 72,
   "metadata": {},
   "outputs": [
    {
     "name": "stdout",
     "output_type": "stream",
     "text": [
      "[1, 3]\n",
      "[1, 3, 5]\n",
      "[1, 3, 5]\n"
     ]
    }
   ],
   "source": [
    "odds = [1,3]\n",
    "print(odds)\n",
    "print(odds + [5])\n",
    "odds.append(5)\n",
    "print(odds)"
   ]
  },
  {
   "cell_type": "code",
   "execution_count": 74,
   "metadata": {},
   "outputs": [
    {
     "name": "stdout",
     "output_type": "stream",
     "text": [
      "[5, 3, 1]\n",
      "[1, 3, 5]\n"
     ]
    }
   ],
   "source": [
    "print(odds[::-1])\n",
    " #the list itself doesn't change\n",
    "print(odds)"
   ]
  },
  {
   "cell_type": "code",
   "execution_count": 75,
   "metadata": {},
   "outputs": [
    {
     "name": "stdout",
     "output_type": "stream",
     "text": [
      "[1, 3, 5]\n",
      "[5, 3, 1]\n"
     ]
    }
   ],
   "source": [
    "print(odds)\n",
    "odds.reverse()\n",
    "print(odds)\n",
    "    #difference between manipulating the list & working on the list"
   ]
  },
  {
   "cell_type": "code",
   "execution_count": 80,
   "metadata": {},
   "outputs": [
    {
     "name": "stdout",
     "output_type": "stream",
     "text": [
      "['s', 'u', 'r', 'f']\n"
     ]
    }
   ],
   "source": [
    "new_list = []\n",
    "for char in 'surf':\n",
    "    new_list = new_list + [char]\n",
    "print(new_list)"
   ]
  },
  {
   "cell_type": "code",
   "execution_count": 81,
   "metadata": {},
   "outputs": [
    {
     "name": "stdout",
     "output_type": "stream",
     "text": [
      "[['s'], ['u'], ['r'], ['f']]\n"
     ]
    }
   ],
   "source": [
    "word = 'surf'\n",
    "word_list = []\n",
    "for char in word:\n",
    "    word_list.append([char])\n",
    "    #[] creates a list within the other list\n",
    "print(word_list)"
   ]
  },
  {
   "cell_type": "code",
   "execution_count": 82,
   "metadata": {},
   "outputs": [
    {
     "name": "stdout",
     "output_type": "stream",
     "text": [
      "['s', 'u', 'r', 'f']\n"
     ]
    }
   ],
   "source": [
    "word = 'surf'\n",
    "word_list = []\n",
    "for char in word:\n",
    "    word_list.append(char)\n",
    "print(word_list)"
   ]
  },
  {
   "cell_type": "code",
   "execution_count": 83,
   "metadata": {},
   "outputs": [
    {
     "name": "stdout",
     "output_type": "stream",
     "text": [
      "['Tatooine', 'Naboo', 'Arakis', 'Jupiter', 'Alderan']\n"
     ]
    }
   ],
   "source": [
    "planets = ['Tatooine', 'Naboo', 'Arakis', 'Jupiter', 'Alderan']\n",
    "print(planets)"
   ]
  },
  {
   "cell_type": "code",
   "execution_count": 84,
   "metadata": {},
   "outputs": [
    {
     "name": "stdout",
     "output_type": "stream",
     "text": [
      "['Tatooine', 'Naboo']\n"
     ]
    }
   ],
   "source": [
    "star_wars_planets = planets[0:2]\n",
    "    #we can slice lists, the same way we slice strings\n",
    "print(star_wars_planets)"
   ]
  },
  {
   "cell_type": "code",
   "execution_count": 88,
   "metadata": {},
   "outputs": [],
   "source": [
    "string_for_slicing = 'Observation date: 02-Feb-2013'\n",
    "list_for_slicing = [['fluorine', 'F'], ['chlorine', 'Cl'], ['bromine', 'Br'], ['iodine', 'I'], ['astatine', 'At']]"
   ]
  },
  {
   "cell_type": "code",
   "execution_count": 89,
   "metadata": {},
   "outputs": [
    {
     "name": "stdout",
     "output_type": "stream",
     "text": [
      "2013\n"
     ]
    }
   ],
   "source": [
    "print(string_for_slicing[-4:])"
   ]
  },
  {
   "cell_type": "code",
   "execution_count": 92,
   "metadata": {},
   "outputs": [
    {
     "name": "stdout",
     "output_type": "stream",
     "text": [
      "29\n",
      "2013\n"
     ]
    }
   ],
   "source": [
    "print(len(string_for_slicing))\n",
    "print(string_for_slicing[25:])"
   ]
  },
  {
   "cell_type": "code",
   "execution_count": 93,
   "metadata": {},
   "outputs": [
    {
     "name": "stdout",
     "output_type": "stream",
     "text": [
      "[['chlorine', 'Cl'], ['bromine', 'Br'], ['iodine', 'I'], ['astatine', 'At']]\n"
     ]
    }
   ],
   "source": [
    "print(list_for_slicing[1:])\n",
    " #would be the same as print(list_for_slicing[1:5])"
   ]
  },
  {
   "cell_type": "code",
   "execution_count": 94,
   "metadata": {},
   "outputs": [
    {
     "name": "stdout",
     "output_type": "stream",
     "text": [
      "I notpssgre ntesae\n"
     ]
    }
   ],
   "source": [
    "beatles = \"In an octopus's garden in the shade\"\n",
    "print(beatles[::2])"
   ]
  },
  {
   "cell_type": "code",
   "execution_count": 107,
   "metadata": {},
   "outputs": [
    {
     "name": "stdout",
     "output_type": "stream",
     "text": [
      "[['linear algebra', 'B'], ['philosophy', 'A'], ['fluid dynamics', 'A'], ['history', 'B']]\n",
      "[['linear algebra', 'B'], ['philosophy', 'A'], ['fluid dynamics', 'A'], ['history', 'B']]\n"
     ]
    }
   ],
   "source": [
    "spring_quarter = [['linear algebra', 'A'], ['philosophy', 'B-'], ['fluid dynamics', 'A+'], ['history', 'A-']]\n",
    "my_spring_qtr = list(spring_quarter)\n",
    "my_spring_qtr[0][1]= 'B'\n",
    "my_spring_qtr[1][1]= 'A'\n",
    "my_spring_qtr[2][1]= 'A'\n",
    "my_spring_qtr[3][1]= 'B'\n",
    "print(spring_quarter)\n",
    "print(my_spring_qtr)"
   ]
  },
  {
   "cell_type": "code",
   "execution_count": 108,
   "metadata": {},
   "outputs": [
    {
     "name": "stdout",
     "output_type": "stream",
     "text": [
      "My grades are: ['B', 'A', 'A', 'B']\n",
      "My classes are: ['linear algebra', 'philosophy', 'fluid dynamics', 'history']\n"
     ]
    }
   ],
   "source": [
    "grades = []\n",
    "classes = []\n",
    "for i in my_spring_qtr:\n",
    "    grades.append(i[1])\n",
    "    classes.append(i[0]) \n",
    "print('My grades are:', grades)\n",
    "print('My classes are:', classes)"
   ]
  },
  {
   "cell_type": "code",
   "execution_count": null,
   "metadata": {
    "collapsed": true
   },
   "outputs": [],
   "source": []
  },
  {
   "cell_type": "code",
   "execution_count": null,
   "metadata": {
    "collapsed": true
   },
   "outputs": [],
   "source": []
  },
  {
   "cell_type": "markdown",
   "metadata": {},
   "source": [
    "# Conditionals"
   ]
  },
  {
   "cell_type": "code",
   "execution_count": 109,
   "metadata": {
    "collapsed": true
   },
   "outputs": [],
   "source": [
    "my_variables = 5"
   ]
  },
  {
   "cell_type": "code",
   "execution_count": 111,
   "metadata": {},
   "outputs": [
    {
     "name": "stdout",
     "output_type": "stream",
     "text": [
      "False\n",
      "<class 'bool'>\n"
     ]
    }
   ],
   "source": [
    "#we test inequality w ==\n",
    "print(5 == 4)\n",
    "print(type(5 == 4))"
   ]
  },
  {
   "cell_type": "code",
   "execution_count": 112,
   "metadata": {},
   "outputs": [
    {
     "name": "stdout",
     "output_type": "stream",
     "text": [
      "True\n",
      "<class 'bool'>\n"
     ]
    }
   ],
   "source": [
    "print(5 == 5)\n",
    "print(type(5==5))"
   ]
  },
  {
   "cell_type": "code",
   "execution_count": 114,
   "metadata": {},
   "outputs": [
    {
     "name": "stdout",
     "output_type": "stream",
     "text": [
      "3.54 is large\n"
     ]
    }
   ],
   "source": [
    "mass = 3.54\n",
    "if mass > 3.0:\n",
    "    print(mass, 'is large')"
   ]
  },
  {
   "cell_type": "code",
   "execution_count": 116,
   "metadata": {
    "collapsed": true
   },
   "outputs": [],
   "source": [
    "mass = 2.1\n",
    "if mass > 3.0:\n",
    "    print(mass, 'is large')\n",
    "#'if' statement does NOT run"
   ]
  },
  {
   "cell_type": "code",
   "execution_count": 117,
   "metadata": {},
   "outputs": [
    {
     "name": "stdout",
     "output_type": "stream",
     "text": [
      "False\n"
     ]
    }
   ],
   "source": [
    "mass = 2.1\n",
    "print(mass>3.0)"
   ]
  },
  {
   "cell_type": "code",
   "execution_count": 121,
   "metadata": {},
   "outputs": [
    {
     "name": "stdout",
     "output_type": "stream",
     "text": [
      "5.0 is greater\n",
      "done\n"
     ]
    }
   ],
   "source": [
    "mass = 5.0\n",
    "if mass > 3.0:\n",
    "    print(mass, 'is greater')\n",
    "else:\n",
    "    print(mass, 'not greater')\n",
    "print('done')"
   ]
  },
  {
   "cell_type": "code",
   "execution_count": 126,
   "metadata": {},
   "outputs": [
    {
     "name": "stdout",
     "output_type": "stream",
     "text": [
      "3.2 is larger\n"
     ]
    }
   ],
   "source": [
    "mass = 3.2\n",
    "if mass > 3.0:\n",
    "    print(mass, 'is larger')\n",
    "elif mass == 3:\n",
    "    print(mass, 'is equal')\n",
    "else:\n",
    "    print(mass, 'is less')"
   ]
  },
  {
   "cell_type": "code",
   "execution_count": null,
   "metadata": {
    "collapsed": true
   },
   "outputs": [],
   "source": []
  },
  {
   "cell_type": "code",
   "execution_count": 128,
   "metadata": {},
   "outputs": [
    {
     "name": "stdout",
     "output_type": "stream",
     "text": [
      "3.54 is large\n",
      "2.07 is small\n",
      "9.22 is HUGE\n",
      "1.86 is small\n",
      "1.71 is small\n"
     ]
    }
   ],
   "source": [
    "masses =[3.54, 2.07, 9.22, 1.86, 1.71]\n",
    "\n",
    "for m in masses:\n",
    "    if m > 9.0:\n",
    "        print(m, 'is HUGE')\n",
    "    elif m > 3:\n",
    "        print(m, 'is large')\n",
    "    else:\n",
    "        print(m, 'is small')"
   ]
  },
  {
   "cell_type": "code",
   "execution_count": 129,
   "metadata": {},
   "outputs": [
    {
     "name": "stdout",
     "output_type": "stream",
     "text": [
      "grade is C\n"
     ]
    }
   ],
   "source": [
    "grade = 85\n",
    "\n",
    "if grade >= 70:\n",
    "    print('grade is C')\n",
    "elif grade >= 80:\n",
    "    print('grade is B')\n",
    "elif grade >=90:\n",
    "    print('grade is A')\n",
    "        #conditions tested in order-so the first to satisfy determines the output (order matters)"
   ]
  },
  {
   "cell_type": "code",
   "execution_count": 130,
   "metadata": {},
   "outputs": [
    {
     "name": "stdout",
     "output_type": "stream",
     "text": [
      "grade is B\n"
     ]
    }
   ],
   "source": [
    "if grade >= 90:\n",
    "    print('grade is A')\n",
    "elif grade >= 80:\n",
    "    print('grade is B')\n",
    "elif grade >= 70:\n",
    "    print('grade is C')"
   ]
  },
  {
   "cell_type": "code",
   "execution_count": null,
   "metadata": {
    "collapsed": true
   },
   "outputs": [],
   "source": []
  },
  {
   "cell_type": "code",
   "execution_count": null,
   "metadata": {
    "collapsed": true
   },
   "outputs": [],
   "source": []
  },
  {
   "cell_type": "code",
   "execution_count": 161,
   "metadata": {
    "collapsed": true
   },
   "outputs": [],
   "source": [
    "%matplotlib inline\n",
    "import numpy as np\n",
    "import matplotlib.pyplot as plt\n",
    "import glob"
   ]
  },
  {
   "cell_type": "code",
   "execution_count": 142,
   "metadata": {},
   "outputs": [
    {
     "name": "stdout",
     "output_type": "stream",
     "text": [
      "../data\\chlorophyll-01.csv looks ok\n",
      "../data\\chlorophyll-02.csv has a problem: negative mean\n",
      "../data\\chlorophyll-03.csv looks ok\n",
      "../data\\chlorophyll-04.csv looks ok\n",
      "../data\\chlorophyll-05.csv looks ok\n",
      "../data\\chlorophyll-06.csv looks ok\n",
      "../data\\chlorophyll-07.csv looks ok\n",
      "../data\\chlorophyll-08.csv looks ok\n",
      "../data\\chlorophyll-09.csv looks ok\n",
      "../data\\chlorophyll-10.csv looks ok\n",
      "../data\\chlorophyll-11.csv looks ok\n",
      "../data\\chlorophyll-12.csv looks ok\n"
     ]
    }
   ],
   "source": [
    "files = sorted(glob.glob('../data/chlorophyll-*.csv'))\n",
    "\n",
    "for f in files:\n",
    "    data = np.loadtxt(f, delimiter=',')\n",
    "    mean_data = np.mean(data)\n",
    "    if mean_data < 0:\n",
    "        print(f, 'has a problem: negative mean')\n",
    "    else:\n",
    "        print(f, 'looks ok')\n",
    "    #ave_profile = np.mean(data, axis=0)\n",
    "    #fig = plt.figure(figsize=(6,8))\n",
    "    #ax = fig.add_subplot(111)\n",
    "    #ax.plot(ave_profile)\n",
    "    ##print('The mean is:', np.mean(data))"
   ]
  },
  {
   "cell_type": "code",
   "execution_count": null,
   "metadata": {
    "collapsed": true
   },
   "outputs": [],
   "source": []
  },
  {
   "cell_type": "code",
   "execution_count": null,
   "metadata": {
    "collapsed": true
   },
   "outputs": [],
   "source": []
  },
  {
   "cell_type": "code",
   "execution_count": 164,
   "metadata": {},
   "outputs": [
    {
     "data": {
      "text/plain": [
       "Text(0.5,1,'Mean profile across all missions')"
      ]
     },
     "execution_count": 164,
     "metadata": {},
     "output_type": "execute_result"
    },
    {
     "data": {
      "image/png": "[encoded data removed]",
      "text/plain": [
       "<matplotlib.figure.Figure at 0x19730ccfc50>"
      ]
     },
     "metadata": {},
     "output_type": "display_data"
    }
   ],
   "source": [
    "%matplotlib inline\n",
    "import numpy as np\n",
    "import matplotlib.pyplot as plt\n",
    "import glob\n",
    "\n",
    "depth = -1*np.arange(10,310,10)\n",
    "all_means = []  #creates an empty list to collect the profiles\n",
    "for f in files:\n",
    "    data = np.loadtxt(f, delimiter=',')\n",
    "    ave_profile = np.mean(data, axis=0)  #average profile for a single mission\n",
    "    mean_data = np.mean(data)  #overall mean of a specific mission\n",
    "    if mean_data>0:  #the Chl concentration has to be positive\n",
    "        all_means.append(ave_profile)  #if mean is + than append\n",
    "            ##'if' statement gets rid of outlier\n",
    "            \n",
    "mean_profile = np.array(all_means)  #turns a list into an array to operate using numpy operations\n",
    "fig = plt.figure()\n",
    "ax = fig.add_subplot(111)\n",
    "ax.plot(np.mean(mean_profile, axis=0), depth)\n",
    "ax.set_ylabel('Depth [m]', fontsize=14)\n",
    "ax.set_xlabel('Chl [mg/m^3]', fontsize=14)\n",
    "ax.set_title('Mean profile across all missions', fontsize=16)"
   ]
  },
  {
   "cell_type": "code",
   "execution_count": 157,
   "metadata": {},
   "outputs": [],
   "source": [
    "#print(len(all_means))\n",
    "#plt.plot(all_means[0])\n",
    "#print(mean_profile.shape)"
   ]
  },
  {
   "cell_type": "code",
   "execution_count": 156,
   "metadata": {},
   "outputs": [],
   "source": []
  },
  {
   "cell_type": "code",
   "execution_count": 154,
   "metadata": {},
   "outputs": [
    {
     "name": "stdout",
     "output_type": "stream",
     "text": [
      "(11, 30)\n"
     ]
    }
   ],
   "source": []
  },
  {
   "cell_type": "code",
   "execution_count": 155,
   "metadata": {},
   "outputs": [
    {
     "data": {
      "text/plain": [
       "[<matplotlib.lines.Line2D at 0x19730bf10b8>]"
      ]
     },
     "execution_count": 155,
     "metadata": {},
     "output_type": "execute_result"
    },
    {
     "data": {
      "image/png": "[encoded data removed]",
      "text/plain": [
       "<matplotlib.figure.Figure at 0x1972fa45908>"
      ]
     },
     "metadata": {},
     "output_type": "display_data"
    }
   ],
   "source": []
  },
  {
   "cell_type": "code",
   "execution_count": null,
   "metadata": {
    "collapsed": true
   },
   "outputs": [],
   "source": []
  }
 ],
 "metadata": {
  "kernelspec": {
   "display_name": "Python 3",
   "language": "python",
   "name": "python3"
  },
  "language_info": {
   "codemirror_mode": {
    "name": "ipython",
    "version": 3
   },
   "file_extension": ".py",
   "mimetype": "text/x-python",
   "name": "python",
   "nbconvert_exporter": "python",
   "pygments_lexer": "ipython3",
   "version": "3.6.3"
  }
 },
 "nbformat": 4,
 "nbformat_minor": 2
}
